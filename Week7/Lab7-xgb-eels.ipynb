{
 "cells": [
  {
   "cell_type": "markdown",
   "id": "b6e8c422-cc19-4d89-8f96-003c36cf7c33",
   "metadata": {},
   "source": [
    "## Lab 7: Eel Distribution Modeling with XGBoost\n",
    "\n",
    "**Reference Paper:** [Elith et al. (2008)](https://ucsb.box.com/s/6k7636wsbogdg3orarxrlowke0ounbic)\n",
    "\n",
    "In this lab, you will model the distribution of the eel species *Anguilla australis* using **boosted classification trees (BCTs)**, a machine learning technique that improves predictive performance by combining multiple decision trees. Elith et al. (2008) offered an early implementation of BRTs in an ecological setting to understand how environmental variables influence eel distribution.\n",
    "\n",
    "You will work with **two datasets**:\n",
    "1. **Training Data** – Used to build and evaluate your XGBoost model.\n",
    "2. **Evaluation Data** – Used to assess model performance on unseen data.\n",
    "\n",
    "To achieve the following objectives:\n",
    "- Train and fine-tune an **XGBoost** model for classification of species presence/absence data.\n",
    "- Compare your model’s performance to the approach used by Elith et al.\n",
    "\n",
    "\n",
    "**Wherever applicable in this lab, use a random state of 808.**"
   ]
  },
  {
   "cell_type": "markdown",
   "id": "ac39e743-8686-4f51-85ee-7c1925002f5f",
   "metadata": {},
   "source": [
    "### Step 0: Load libraries and data\n"
   ]
  },
  {
   "cell_type": "code",
   "execution_count": 1,
   "id": "dd687480-182a-4416-9cdd-10eb33d147d1",
   "metadata": {
    "tags": []
   },
   "outputs": [],
   "source": [
    "import pandas as pd\n",
    "from sklearn.model_selection import train_test_split,RandomizedSearchCV\n",
    "from sklearn.preprocessing import LabelEncoder\n",
    "import xgboost as xgb\n",
    "from xgboost import XGBClassifier\n",
    "from sklearn.metrics import roc_auc_score\n",
    "from scipy.stats import uniform, randint\n",
    "\n",
    "# Download the datasets\n",
    "model_data = pd.read_csv(\"/courses/EDS232/Data/model.data.csv\").drop(columns=['Site'])\n",
    "eval_data = pd.read_csv(\"/courses/EDS232/Data/eval.data.csv\")"
   ]
  },
  {
   "cell_type": "markdown",
   "id": "21e16c25",
   "metadata": {},
   "source": [
    "### Step 1:Initial Data Preprocessing\n",
    "Let's get started by preparing our data. `Angaus` will be our target variable(`y`), and all other variables will be our features (`X`). Then encode the categorical feature using `LabelEncoder()`. The final step will be a bit different this time.  We don't need to split off testing data for the final model evaluation; a separate set (`eval_data`) will be used as in Elith et al.  We do, however, need to split our data in order to do the early stopping process. When splitting your data into training and validation, use a test size of 0.2 and a random state of 808. "
   ]
  },
  {
   "cell_type": "code",
   "execution_count": 2,
   "id": "077a149a-cc92-435e-a9ae-e8f1038c388c",
   "metadata": {
    "tags": []
   },
   "outputs": [
    {
     "data": {
      "text/plain": [
       "Angaus          int64\n",
       "SegSumT       float64\n",
       "SegTSeas      float64\n",
       "SegLowFlow    float64\n",
       "DSDist        float64\n",
       "DSMaxSlope    float64\n",
       "USAvgT        float64\n",
       "USRainDays    float64\n",
       "USSlope       float64\n",
       "USNative      float64\n",
       "DSDam           int64\n",
       "Method         object\n",
       "LocSed        float64\n",
       "dtype: object"
      ]
     },
     "execution_count": 2,
     "metadata": {},
     "output_type": "execute_result"
    }
   ],
   "source": [
    "model_data.dtypes"
   ]
  },
  {
   "cell_type": "code",
   "execution_count": 3,
   "id": "92f8a3c0",
   "metadata": {
    "tags": []
   },
   "outputs": [
    {
     "data": {
      "text/plain": [
       "Angaus          int64\n",
       "SegSumT       float64\n",
       "SegTSeas      float64\n",
       "SegLowFlow    float64\n",
       "DSDist        float64\n",
       "DSMaxSlope    float64\n",
       "USAvgT        float64\n",
       "USRainDays    float64\n",
       "USSlope       float64\n",
       "USNative      float64\n",
       "DSDam           int64\n",
       "Method          int64\n",
       "LocSed        float64\n",
       "dtype: object"
      ]
     },
     "execution_count": 3,
     "metadata": {},
     "output_type": "execute_result"
    }
   ],
   "source": [
    "le = LabelEncoder()\n",
    "model_data['Method'] = le.fit_transform(model_data['Method'].astype(str))\n",
    "\n",
    "X = model_data.drop(\"Angaus\", axis=1)\n",
    "y = model_data[\"Angaus\"]\n",
    "\n",
    "X_train, X_val, y_train, y_val = train_test_split(X, y, test_size=0.2, random_state=808)\n",
    "\n",
    "model_data.dtypes"
   ]
  },
  {
   "cell_type": "markdown",
   "id": "e025a34e",
   "metadata": {},
   "source": [
    "### Step 2: Determine best number of trees using early stopping\n",
    "As a guard against overfitting while maximizing performance, we use **early stopping**. We start with a large number of trees and allow XGBoost to determine the optimal number by stopping training when the validation error no longer improves.\n",
    "\n",
    "The choice of hyperparameter starting values is important in this process. We begin with:\n",
    "- `n_estimators=1000` to ensure the model has enough capacity to learn meaningful patterns.\n",
    "- `learning_rate=0.1` as a reasonable default that balances learning speed and performance.\n",
    "- `eval_metric=\"logloss\"` as the metric of performance to optimize.\n",
    "- `early_stopping_rounds=50` to halt training if no improvement is seen for 50 rounds, preventing unnecessary computations.\n",
    "- `random_state = 808`\n",
    "\n",
    "We then `fit()` our specified baseline model, passing in the training sets as usual and specifying validation sets values for the `eval_set` parameter.\n",
    "\n",
    "Finally, get and print the best number of trees from the fitted baseline model.\n"
   ]
  },
  {
   "cell_type": "code",
   "execution_count": 4,
   "id": "55bf0fa0",
   "metadata": {
    "tags": []
   },
   "outputs": [
    {
     "name": "stdout",
     "output_type": "stream",
     "text": [
      "[0]\tvalidation_0-logloss:0.51354\n",
      "[1]\tvalidation_0-logloss:0.48803\n",
      "[2]\tvalidation_0-logloss:0.46738\n",
      "[3]\tvalidation_0-logloss:0.45126\n",
      "[4]\tvalidation_0-logloss:0.43766\n",
      "[5]\tvalidation_0-logloss:0.42555\n",
      "[6]\tvalidation_0-logloss:0.41728\n",
      "[7]\tvalidation_0-logloss:0.40769\n",
      "[8]\tvalidation_0-logloss:0.40082\n",
      "[9]\tvalidation_0-logloss:0.39562\n",
      "[10]\tvalidation_0-logloss:0.39263\n",
      "[11]\tvalidation_0-logloss:0.38984\n",
      "[12]\tvalidation_0-logloss:0.38489\n",
      "[13]\tvalidation_0-logloss:0.38327\n",
      "[14]\tvalidation_0-logloss:0.37803\n",
      "[15]\tvalidation_0-logloss:0.37652\n",
      "[16]\tvalidation_0-logloss:0.37337\n",
      "[17]\tvalidation_0-logloss:0.37156\n",
      "[18]\tvalidation_0-logloss:0.36987\n",
      "[19]\tvalidation_0-logloss:0.36868\n",
      "[20]\tvalidation_0-logloss:0.36809\n",
      "[21]\tvalidation_0-logloss:0.36721\n",
      "[22]\tvalidation_0-logloss:0.36763\n",
      "[23]\tvalidation_0-logloss:0.36570\n",
      "[24]\tvalidation_0-logloss:0.36577\n",
      "[25]\tvalidation_0-logloss:0.36666\n",
      "[26]\tvalidation_0-logloss:0.36559\n",
      "[27]\tvalidation_0-logloss:0.36552\n",
      "[28]\tvalidation_0-logloss:0.36422\n",
      "[29]\tvalidation_0-logloss:0.36380\n",
      "[30]\tvalidation_0-logloss:0.36482\n",
      "[31]\tvalidation_0-logloss:0.36468\n",
      "[32]\tvalidation_0-logloss:0.36540\n",
      "[33]\tvalidation_0-logloss:0.36509\n",
      "[34]\tvalidation_0-logloss:0.36664\n",
      "[35]\tvalidation_0-logloss:0.36620\n",
      "[36]\tvalidation_0-logloss:0.36585\n",
      "[37]\tvalidation_0-logloss:0.36646\n",
      "[38]\tvalidation_0-logloss:0.36736\n",
      "[39]\tvalidation_0-logloss:0.36764\n",
      "[40]\tvalidation_0-logloss:0.36846\n",
      "[41]\tvalidation_0-logloss:0.36805\n",
      "[42]\tvalidation_0-logloss:0.36795\n",
      "[43]\tvalidation_0-logloss:0.36930\n",
      "[44]\tvalidation_0-logloss:0.36916\n",
      "[45]\tvalidation_0-logloss:0.37009\n",
      "[46]\tvalidation_0-logloss:0.36979\n",
      "[47]\tvalidation_0-logloss:0.37037\n",
      "[48]\tvalidation_0-logloss:0.37151\n",
      "[49]\tvalidation_0-logloss:0.37360\n",
      "[50]\tvalidation_0-logloss:0.37525\n",
      "[51]\tvalidation_0-logloss:0.37579\n",
      "[52]\tvalidation_0-logloss:0.37756\n",
      "[53]\tvalidation_0-logloss:0.37736\n",
      "[54]\tvalidation_0-logloss:0.37770\n",
      "[55]\tvalidation_0-logloss:0.37929\n",
      "[56]\tvalidation_0-logloss:0.37880\n",
      "[57]\tvalidation_0-logloss:0.37905\n",
      "[58]\tvalidation_0-logloss:0.37876\n",
      "[59]\tvalidation_0-logloss:0.38100\n",
      "[60]\tvalidation_0-logloss:0.38130\n",
      "[61]\tvalidation_0-logloss:0.38072\n",
      "[62]\tvalidation_0-logloss:0.37987\n",
      "[63]\tvalidation_0-logloss:0.38153\n",
      "[64]\tvalidation_0-logloss:0.38189\n",
      "[65]\tvalidation_0-logloss:0.38174\n",
      "[66]\tvalidation_0-logloss:0.38213\n",
      "[67]\tvalidation_0-logloss:0.38358\n",
      "[68]\tvalidation_0-logloss:0.38207\n",
      "[69]\tvalidation_0-logloss:0.38380\n",
      "[70]\tvalidation_0-logloss:0.38347\n",
      "[71]\tvalidation_0-logloss:0.38185\n",
      "[72]\tvalidation_0-logloss:0.38214\n",
      "[73]\tvalidation_0-logloss:0.38155\n",
      "[74]\tvalidation_0-logloss:0.38143\n",
      "[75]\tvalidation_0-logloss:0.38350\n",
      "[76]\tvalidation_0-logloss:0.38347\n",
      "[77]\tvalidation_0-logloss:0.38398\n",
      "[78]\tvalidation_0-logloss:0.38436\n",
      "[79]\tvalidation_0-logloss:0.38608\n",
      "Optimal number of trees: 29\n"
     ]
    }
   ],
   "source": [
    "xgb_model = XGBClassifier(\n",
    "    n_estimators=1000,\n",
    "    learning_rate=0.1,\n",
    "    eval_metric=\"logloss\",\n",
    "    early_stopping_rounds=50,\n",
    "    random_state=808\n",
    ")\n",
    "\n",
    "xgb_model.fit(\n",
    "    X_train,\n",
    "    y_train,\n",
    "    eval_set=[(X_val, y_val)],\n",
    "    verbose=True\n",
    ")\n",
    "\n",
    "best_trees = xgb_model.get_booster().best_iteration\n",
    "print(\"Optimal number of trees:\", best_trees)\n"
   ]
  },
  {
   "cell_type": "markdown",
   "id": "95ac1456",
   "metadata": {},
   "source": [
    "### Step 3: Tune Learning Rate\n",
    "\n",
    "The (`learning_rate` hyperparameter controls how much each tree contributes to improving the model's performance. A *higher* learning rate allows the model to learn quickly but risks missing the optimal solution and overfitting, while a *lower* learning rate makes learning slower but can improve generalization.\n",
    "\n",
    "To find the optimal value, we'll use **randomized search cross-validation** (`RandomizedSearchCV`) to test different learning rates in the 0.01 to 0.3 range. Instead of testing every possible value, this method samples a set number of candidates (`n_iter`) from a defined parameter distribution.  In this case, sampling 20 candidates from a uniform distribution between `0.01` and `0.31`. Check out the [documentation](https://docs.scipy.org/doc/scipy/reference/generated/scipy.stats.uniform.html) on `scipy.stats.uniform` to see how it differs from `random.uniform`. Be sure to use a random state of 808.\n",
    "\n",
    "After using `RandomizedSearchCV`, fit your model. Print the best learning rate. \n"
   ]
  },
  {
   "cell_type": "code",
   "execution_count": 5,
   "id": "4b8d5a61-5a7d-439f-85c2-24bf3b7cfaff",
   "metadata": {
    "tags": []
   },
   "outputs": [
    {
     "name": "stdout",
     "output_type": "stream",
     "text": [
      "Fitting 5 folds for each of 20 candidates, totalling 100 fits\n"
     ]
    }
   ],
   "source": [
    "# I couldn't get this to work right off the bat, so I tuned the learning rate without early stopping, and then added early stopping after\n",
    "\n",
    "\n",
    "xgb_model_cv = XGBClassifier(\n",
    "    n_estimators = 1000,\n",
    "    learning_rate = 0.1,\n",
    "    eval_metric = \"logloss\",\n",
    "    random_state = 808\n",
    ")\n",
    "\n",
    "param_dist = {'learning_rate': uniform(0.01, 0.31)}\n",
    "\n",
    "random_search = RandomizedSearchCV(\n",
    "    estimator = xgb_model_cv,\n",
    "    param_distributions = param_dist,\n",
    "    n_iter = 20,\n",
    "    cv = 5,\n",
    "    random_state = 808,\n",
    "    n_jobs = -1,\n",
    "    verbose = 1\n",
    ")\n",
    "\n",
    "random_search.fit(X_train, y_train)\n",
    "best_learning_rate = random_search.best_params_['learning_rate']\n"
   ]
  },
  {
   "cell_type": "code",
   "execution_count": 6,
   "id": "2e6ba7d9-24ca-430a-aa60-433cd07f35bd",
   "metadata": {
    "tags": []
   },
   "outputs": [
    {
     "name": "stdout",
     "output_type": "stream",
     "text": [
      "[0]\tvalidation_0-logloss:0.47593\n",
      "[1]\tvalidation_0-logloss:0.43478\n",
      "[2]\tvalidation_0-logloss:0.42251\n",
      "[3]\tvalidation_0-logloss:0.40614\n",
      "[4]\tvalidation_0-logloss:0.39372\n",
      "[5]\tvalidation_0-logloss:0.38916\n",
      "[6]\tvalidation_0-logloss:0.38863\n",
      "[7]\tvalidation_0-logloss:0.38720\n",
      "[8]\tvalidation_0-logloss:0.38200\n",
      "[9]\tvalidation_0-logloss:0.38325\n",
      "[10]\tvalidation_0-logloss:0.38283\n",
      "[11]\tvalidation_0-logloss:0.38274\n",
      "[12]\tvalidation_0-logloss:0.38611\n",
      "[13]\tvalidation_0-logloss:0.38398\n",
      "[14]\tvalidation_0-logloss:0.38586\n",
      "[15]\tvalidation_0-logloss:0.38827\n",
      "[16]\tvalidation_0-logloss:0.38801\n",
      "[17]\tvalidation_0-logloss:0.39105\n",
      "[18]\tvalidation_0-logloss:0.39026\n",
      "[19]\tvalidation_0-logloss:0.39329\n",
      "[20]\tvalidation_0-logloss:0.39838\n",
      "[21]\tvalidation_0-logloss:0.39845\n",
      "[22]\tvalidation_0-logloss:0.39714\n",
      "[23]\tvalidation_0-logloss:0.40215\n",
      "[24]\tvalidation_0-logloss:0.40440\n",
      "[25]\tvalidation_0-logloss:0.40766\n",
      "[26]\tvalidation_0-logloss:0.40765\n",
      "[27]\tvalidation_0-logloss:0.40949\n",
      "[28]\tvalidation_0-logloss:0.41147\n",
      "[29]\tvalidation_0-logloss:0.41348\n",
      "[30]\tvalidation_0-logloss:0.41546\n",
      "[31]\tvalidation_0-logloss:0.41615\n",
      "[32]\tvalidation_0-logloss:0.41849\n",
      "[33]\tvalidation_0-logloss:0.42019\n",
      "[34]\tvalidation_0-logloss:0.42537\n",
      "[35]\tvalidation_0-logloss:0.42745\n",
      "[36]\tvalidation_0-logloss:0.42823\n",
      "[37]\tvalidation_0-logloss:0.42970\n",
      "[38]\tvalidation_0-logloss:0.43023\n",
      "[39]\tvalidation_0-logloss:0.43149\n",
      "[40]\tvalidation_0-logloss:0.43212\n",
      "[41]\tvalidation_0-logloss:0.43277\n",
      "[42]\tvalidation_0-logloss:0.43316\n",
      "[43]\tvalidation_0-logloss:0.43503\n",
      "[44]\tvalidation_0-logloss:0.43939\n",
      "[45]\tvalidation_0-logloss:0.44172\n",
      "[46]\tvalidation_0-logloss:0.43901\n",
      "[47]\tvalidation_0-logloss:0.43928\n",
      "[48]\tvalidation_0-logloss:0.43701\n",
      "[49]\tvalidation_0-logloss:0.43518\n",
      "[50]\tvalidation_0-logloss:0.43419\n",
      "[51]\tvalidation_0-logloss:0.43373\n",
      "[52]\tvalidation_0-logloss:0.43615\n",
      "[53]\tvalidation_0-logloss:0.43732\n",
      "[54]\tvalidation_0-logloss:0.44177\n",
      "[55]\tvalidation_0-logloss:0.44331\n",
      "[56]\tvalidation_0-logloss:0.44684\n",
      "[57]\tvalidation_0-logloss:0.44725\n",
      "[58]\tvalidation_0-logloss:0.44985\n",
      "Learning rate: 0.23935062091988085\n"
     ]
    }
   ],
   "source": [
    "final_model = XGBClassifier(\n",
    "    n_estimators = 1000,\n",
    "    learning_rate = best_learning_rate,\n",
    "    eval_metric = \"logloss\",\n",
    "    early_stopping_rounds = 50,\n",
    "    random_state = 808\n",
    ")\n",
    "\n",
    "final_model.fit(\n",
    "    X_train,\n",
    "    y_train,\n",
    "    eval_set = [(X_val, y_val)],\n",
    "    verbose = True\n",
    ")\n",
    "\n",
    "best_learning_rate = final_model.get_params()['learning_rate']\n",
    "print(\"Learning rate:\", final_model.get_params()['learning_rate'])"
   ]
  },
  {
   "cell_type": "markdown",
   "id": "71907b11",
   "metadata": {},
   "source": [
    "### Step 4: Tune Tree-Specific Parameters\n",
    "\n",
    "Now that we've determined the best number of tree and learning rate, we need to tune the complexity of individual trees in our model. Initialize your model with the best number of trees and learning rate.Then, define a parameter dictionary that takes on the following values:  \n",
    "\n",
    "- `max_depth`(Controls how deep each tree can grow.  Takes integer values): A random integer from 3 to 10 ( inclusive of 3 and 10)\n",
    "- `min_child_weight`( Determines the minimum number of samples required in a leaf node. Takes integer values) : A random integer from 1 to 10 ( inclusive of 1 and 10)\n",
    "- `gamma` (Defines the minimum loss reduction needed to make a further split in a tree. Can take on values from a continuous range):  A uniform distribution from 0.05 to 0.10 - once again remember to check the `scipy.stats.uniform()` documentation! \n",
    "- `random_state = 808`\n",
    "\n",
    "To find the best combination, we again use `RandomizedSearchCV`, allowing us to efficiently sample hyperparameters and evaluate different configurations using cross-validation. After fitting the model, print the best parameters. \n",
    "\n"
   ]
  },
  {
   "cell_type": "code",
   "execution_count": 7,
   "id": "95c411a3",
   "metadata": {
    "tags": []
   },
   "outputs": [
    {
     "name": "stdout",
     "output_type": "stream",
     "text": [
      "Fitting 5 folds for each of 20 candidates, totalling 100 fits\n",
      "Best complexity parameters: {'gamma': 0.09077113838342292, 'max_depth': 6, 'min_child_weight': 9}\n"
     ]
    }
   ],
   "source": [
    "tuned_model = XGBClassifier(\n",
    "    n_estimators = best_trees,\n",
    "    learning_rate = best_learning_rate,\n",
    "    eval_metric = \"logloss\",\n",
    "    random_state = 808\n",
    ")\n",
    "\n",
    "param_dist = {\n",
    "    'max_depth': randint(3, 11),\n",
    "    'min_child_weight': randint(1, 11),\n",
    "    'gamma': uniform(0.05, 0.05)\n",
    "}\n",
    "\n",
    "random_search_complexity = RandomizedSearchCV(\n",
    "    estimator = tuned_model,\n",
    "    param_distributions = param_dist,\n",
    "    n_iter = 20,\n",
    "    cv = 5,\n",
    "    random_state = 808,\n",
    "    n_jobs = -1,\n",
    "    verbose = 1\n",
    ")\n",
    "\n",
    "random_search_complexity.fit(X_train, y_train)\n",
    "\n",
    "best_tree_parameters = random_search_complexity.best_params_\n",
    "\n",
    "print(\"Best complexity parameters:\", random_search_complexity.best_params_)"
   ]
  },
  {
   "cell_type": "markdown",
   "id": "2168bf81",
   "metadata": {},
   "source": [
    "### Step 5: Tune Stochastic Components\n",
    "\n",
    "Now, we are finally ready to tune the stochastic components of the XGBoost model.  These parameters help prevent overfitting by reducing correlation between trees. Initialize your model with the best number of trees, best learning rate,and your optimized tree values (**Note**: you can use \\**best_tree_parameters to unpack the the dictionary of optimzed tree values) .Then, define a parameter dictionary that takes on the following values:  \n",
    "\n",
    "- `subsample` (Controls the fraction of training samples used for each boosting round) : A uniform distribution between .5 and 1.0 (remeber to check `scipy.stats.uniform()` documentation! )\n",
    "- `colsample_bytree`(Specifies the fraction of features to consider when building each tree) : A uniform distribution between .5 and 1.0\n",
    "- `random_state = 808`\n",
    "\n",
    "We again use `RandomizedSearchCV` to find the best combination of these parameters. After fitting the model, print the best parameters. \n"
   ]
  },
  {
   "cell_type": "code",
   "execution_count": 8,
   "id": "32a61aee-57b1-470b-aa07-488dbe70f898",
   "metadata": {
    "tags": []
   },
   "outputs": [
    {
     "name": "stdout",
     "output_type": "stream",
     "text": [
      "Fitting 5 folds for each of 20 candidates, totalling 100 fits\n",
      "Best stochastic parameters: {'colsample_bytree': 0.9365653342296307, 'subsample': 0.8785363858814997}\n"
     ]
    }
   ],
   "source": [
    "final_model = XGBClassifier(\n",
    "    n_estimators = best_trees,\n",
    "    learning_rate = best_learning_rate,\n",
    "    eval_metric = \"logloss\",\n",
    "    random_state = 808,\n",
    "    **best_tree_parameters\n",
    ")\n",
    "\n",
    "param_dist_stochastic = {\n",
    "    'subsample': uniform(0.5, 0.5),\n",
    "    'colsample_bytree': uniform(0.5, 0.5)\n",
    "}\n",
    "\n",
    "random_search_stochastic = RandomizedSearchCV(\n",
    "    estimator = final_model,\n",
    "    param_distributions = param_dist_stochastic,\n",
    "    n_iter = 20,\n",
    "    cv = 5,\n",
    "    random_state = 808,\n",
    "    n_jobs = -1,\n",
    "    verbose = 1\n",
    ")\n",
    "\n",
    "random_search_stochastic.fit(X_train, y_train)\n",
    "\n",
    "best_stochastic_params = random_search_stochastic.best_params_\n",
    "\n",
    "print(\"Best stochastic parameters:\", random_search_stochastic.best_params_)"
   ]
  },
  {
   "cell_type": "markdown",
   "id": "355cd2d2",
   "metadata": {},
   "source": [
    "### Step 6: Final Model Training and Evaluation\n",
    "\n",
    "With the best hyperparameters selected, we now train the final model on the full training dataset and evaluate it on the separate evaluation dataset.\n",
    "\n",
    "1. Prepare the evaluation data in the same manner as you did the training data\n",
    "\n",
    "2. Train final model using the best parameters found in previous tuning steps (`best_tree_params`, `best_stochastic_params`).Set  `eval_metric = \"logloss\"` \n",
    "\n",
    "3. Fit the model to the full training dataset and predict on the evaluation data \n"
   ]
  },
  {
   "cell_type": "code",
   "execution_count": 9,
   "id": "b68c8624-942b-4d1b-a665-77ca99685186",
   "metadata": {
    "scrolled": true,
    "tags": []
   },
   "outputs": [],
   "source": [
    "eval_data['Method'] = le.transform(eval_data['Method'].astype(str))\n",
    "\n",
    "X_eval = eval_data.drop(\"Angaus_obs\", axis=1)\n",
    "y_eval = eval_data[\"Angaus_obs\"]\n",
    "\n",
    "final_model = XGBClassifier(\n",
    "    n_estimators=best_trees,\n",
    "    learning_rate=best_learning_rate,\n",
    "    eval_metric=\"logloss\",\n",
    "    random_state=808,\n",
    "    **best_tree_parameters,\n",
    "    **best_stochastic_params\n",
    ")\n",
    "\n",
    "final_model.fit(X_train, y_train)\n",
    "\n",
    "predictions = final_model.predict(X_eval)"
   ]
  },
  {
   "cell_type": "markdown",
   "id": "1f39d80a",
   "metadata": {},
   "source": [
    "### Step 7: Model Performance\n",
    "\n",
    "Compute and print the AUC and feature importances for your model."
   ]
  },
  {
   "cell_type": "code",
   "execution_count": 10,
   "id": "9561f5ef-90af-482e-a984-54cb3e13070b",
   "metadata": {
    "tags": []
   },
   "outputs": [
    {
     "name": "stdout",
     "output_type": "stream",
     "text": [
      "SegSumT: 0.2694\n",
      "SegTSeas: 0.0528\n",
      "SegLowFlow: 0.0454\n",
      "DSDist: 0.0435\n",
      "DSMaxSlope: 0.1112\n",
      "USAvgT: 0.0822\n",
      "USRainDays: 0.0836\n",
      "USSlope: 0.0632\n",
      "USNative: 0.0710\n",
      "DSDam: 0.0000\n",
      "Method: 0.1214\n",
      "LocSed: 0.0565\n",
      "AUC: 0.8636298780052792\n"
     ]
    }
   ],
   "source": [
    "y_pred_proba = final_model.predict_proba(X_eval)[:, 1]\n",
    "\n",
    "auc = roc_auc_score(y_eval, y_pred_proba)\n",
    "\n",
    "\n",
    "importances = final_model.feature_importances_\n",
    "\n",
    "for feature, importance in zip(X_eval.columns, importances):\n",
    "    print(f\"{feature}: {importance:.4f}\")\n",
    "    \n",
    "print(\"AUC:\", auc)"
   ]
  },
  {
   "cell_type": "markdown",
   "id": "7476ef1d",
   "metadata": {},
   "source": [
    "### Step 8: The comparison\n",
    "How does your model's performance compare to the of Elith et al. (See Tables 2 and 3)?  Is there another way to compare the models in addition to predictive performance?  Whose model wins in that regard?"
   ]
  },
  {
   "cell_type": "markdown",
   "id": "07dc2a69-bf1e-4442-ad9e-22dc26e0f2b3",
   "metadata": {
    "tags": []
   },
   "source": [
    "For predictive performance, this model is very similar to Elith et al., with an AUC score of .863, where Elith had an AUC score of .858. However, Elith et al. also did an analysis on feature importance, which is key for an ecological understanding of, in this case, eels in New Zealand. The analysis on feature importance helps us interpret which features have the greatest influence. For this, Elith's model wins. "
   ]
  }
 ],
 "metadata": {
  "kernelspec": {
   "display_name": "Anaconda 3 (EDS232)",
   "language": "python",
   "name": "ml-env"
  },
  "language_info": {
   "codemirror_mode": {
    "name": "ipython",
    "version": 3
   },
   "file_extension": ".py",
   "mimetype": "text/x-python",
   "name": "python",
   "nbconvert_exporter": "python",
   "pygments_lexer": "ipython3",
   "version": "3.10.16"
  }
 },
 "nbformat": 4,
 "nbformat_minor": 5
}
