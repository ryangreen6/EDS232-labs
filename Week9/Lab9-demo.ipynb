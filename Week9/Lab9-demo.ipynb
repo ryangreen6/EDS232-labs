{
 "cells": [
  {
   "cell_type": "code",
   "execution_count": 1,
   "id": "2e03d321",
   "metadata": {
    "tags": []
   },
   "outputs": [],
   "source": [
    "import numpy as np\n",
    "import matplotlib.pyplot as plt\n",
    "from sklearn.svm import SVC\n",
    "from sklearn.ensemble import RandomForestClassifier\n",
    "from sklearn.model_selection import train_test_split, GridSearchCV\n",
    "from sklearn.metrics import accuracy_score\n",
    "from sklearn.datasets import make_gaussian_quantiles"
   ]
  },
  {
   "cell_type": "code",
   "execution_count": null,
   "id": "49274687",
   "metadata": {},
   "outputs": [],
   "source": [
    "### SVM vs. RF on Gaussian"
   ]
  },
  {
   "cell_type": "code",
   "execution_count": null,
   "id": "856a5628",
   "metadata": {},
   "outputs": [],
   "source": [
    "# Generate dataset with Gaussian quantiles \n",
    "\n",
    "# Introduce additional noise by flipping some labels (0s,1s)\n",
    "flip_mask =   \n",
    "y[flip_mask] = \n",
    "\n",
    "# Split data into training and test sets\n",
    "X_train, X_test, y_train, y_test = "
   ]
  },
  {
   "cell_type": "code",
   "execution_count": null,
   "id": "df238ba4",
   "metadata": {
    "scrolled": true
   },
   "outputs": [],
   "source": [
    "# Set up SVM with RBF kernel and hyperparameter tuning and fit\n",
    "param_grid_svm = \n",
    "grid_search_svm = \n",
    "\n",
    "\n",
    "# Best SVM model\n",
    "best_svm = \n",
    "y_train_pred_svm = \n",
    "y_test_pred_svm = \n"
   ]
  },
  {
   "cell_type": "code",
   "execution_count": null,
   "id": "15ef9630",
   "metadata": {},
   "outputs": [],
   "source": [
    "# Train a Random Forest model with hyperparameter tuning and fit\n",
    "param_grid_rf = \n",
    "grid_search_rf = \n"
   ]
  },
  {
   "cell_type": "code",
   "execution_count": null,
   "id": "5e8071d5",
   "metadata": {},
   "outputs": [],
   "source": [
    "# Best RF model\n",
    "best_rf = \n",
    "y_train_pred_rf = \n",
    "y_test_pred_rf = "
   ]
  },
  {
   "cell_type": "code",
   "execution_count": null,
   "id": "79557fad",
   "metadata": {},
   "outputs": [],
   "source": [
    "# Compute accuracy for both models\n",
    "train_acc_svm = \n",
    "test_acc_svm = \n",
    "\n",
    "train_acc_rf = \n",
    "test_acc_rf = \n"
   ]
  },
  {
   "cell_type": "code",
   "execution_count": null,
   "id": "5a1fee65",
   "metadata": {},
   "outputs": [],
   "source": [
    "# Function to visualize decision boundaries\n",
    "def plot_decision_boundary(model, X, y, title):\n",
    "    h = 0.05  # Step size in the mesh\n",
    "    \n",
    "    # Define the range for plotting based on feature values\n",
    "    x_min, x_max = X[:, 0].min() - 1, X[:, 0].max() + 1 \n",
    "    y_min, y_max = X[:, 1].min() - 1, X[:, 1].max() + 1\n",
    "    \n",
    "    # Create a meshgrid\n",
    "    xx, yy = np.meshgrid(np.arange(x_min, x_max, h), np.arange(y_min, y_max, h))\n",
    "\n",
    "    # Predict the class for each point in the grid\n",
    "    Z = model.predict(np.c_[xx.ravel(), yy.ravel()])\n",
    "    \n",
    "    # Reshape predictions to match the grid shape for contour plotting\n",
    "    Z = Z.reshape(xx.shape)\n",
    "\n",
    "    plt.figure(figsize=(8,6))\n",
    "    plt.contourf(xx, yy, Z, alpha=0.3)\n",
    "    plt.scatter(X[:, 0], X[:, 1], c=y, edgecolors='k', marker='o', cmap=plt.cm.coolwarm)\n",
    "    plt.xlabel(\"Feature 1\")\n",
    "    plt.ylabel(\"Feature 2\")\n",
    "    plt.title(title)\n",
    "    plt.show()\n",
    "\n",
    "# Visualize decision boundaries\n"
   ]
  },
  {
   "cell_type": "markdown",
   "id": "06056421",
   "metadata": {},
   "source": [
    "### Effect of C parameter on overfitting"
   ]
  },
  {
   "cell_type": "code",
   "execution_count": null,
   "id": "6b2991d8",
   "metadata": {},
   "outputs": [],
   "source": [
    "# Test different values of C in SVM with an RBF kernel\n",
    "C_values = \n",
    "train_scores_svm = \n",
    "test_scores_svm = \n",
    "\n",
    "# Fit a series of SVM, varying C\n",
    "\n",
    "    \n",
    "    # Compute train and test accuracy\n",
    "    \n",
    "\n",
    "# Plot Learning Curve: Training vs. Test Accuracy\n",
    "\n"
   ]
  }
 ],
 "metadata": {
  "kernelspec": {
   "display_name": "Anaconda 3 (EDS232)",
   "language": "python",
   "name": "ml-env"
  },
  "language_info": {
   "codemirror_mode": {
    "name": "ipython",
    "version": 3
   },
   "file_extension": ".py",
   "mimetype": "text/x-python",
   "name": "python",
   "nbconvert_exporter": "python",
   "pygments_lexer": "ipython3",
   "version": "3.10.16"
  }
 },
 "nbformat": 4,
 "nbformat_minor": 5
}
